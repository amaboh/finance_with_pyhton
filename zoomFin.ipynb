{
 "cells": [
  {
   "cell_type": "code",
   "execution_count": 4,
   "id": "d3624534",
   "metadata": {},
   "outputs": [],
   "source": [
    "import datetime as dt\n",
    "import matplotlib.pyplot as plt\n",
    "from matplotlib import style\n",
    "import pandas as pd\n",
    "import pandas_datareader.data as web"
   ]
  },
  {
   "cell_type": "code",
   "execution_count": 7,
   "id": "1d308269",
   "metadata": {},
   "outputs": [
    {
     "name": "stdout",
     "output_type": "stream",
     "text": [
      "              High     Low    Open  Close    Volume  Adj Close\n",
      "Date                                                          \n",
      "2022-01-03  15.240  14.404  14.850  15.07   9232500      15.07\n",
      "2022-01-04  15.090  13.745  15.070  14.06  10987400      14.06\n",
      "2022-01-05  14.060  12.430  13.772  12.51  13993800      12.51\n",
      "2022-01-06  12.640  11.315  12.330  11.80  17376500      11.80\n",
      "2022-01-07  12.010  10.987  11.800  11.36  24480900      11.36\n",
      "2022-01-10  11.455  10.565  11.146  11.42  17313300      11.42\n"
     ]
    }
   ],
   "source": [
    "style.use('ggplot')\n",
    "\n",
    "start = dt.datetime(2022, 1,1)\n",
    "end = dt.datetime(2022,12,14)\n",
    "\n",
    "df = web.DataReader('OPEN', 'yahoo', start, end)\n",
    "print(df.head(6))"
   ]
  }
 ],
 "metadata": {
  "kernelspec": {
   "display_name": "Python 3 (ipykernel)",
   "language": "python",
   "name": "python3"
  },
  "language_info": {
   "codemirror_mode": {
    "name": "ipython",
    "version": 3
   },
   "file_extension": ".py",
   "mimetype": "text/x-python",
   "name": "python",
   "nbconvert_exporter": "python",
   "pygments_lexer": "ipython3",
   "version": "3.9.13"
  }
 },
 "nbformat": 4,
 "nbformat_minor": 5
}
